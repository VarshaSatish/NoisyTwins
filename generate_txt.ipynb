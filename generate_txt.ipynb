{
 "cells": [
  {
   "cell_type": "code",
   "execution_count": 1,
   "metadata": {},
   "outputs": [],
   "source": [
    "import json, os"
   ]
  },
  {
   "cell_type": "code",
   "execution_count": null,
   "metadata": {},
   "outputs": [],
   "source": [
    "import os\n",
    "rootdir = '/home/test/varsha/images/generated_samples_64_64'\n",
    "with open(\"/raid/varsha/generated_64_64.txt\", \"a\") as fp:\n",
    "    for subdir, dirs, files in os.walk(rootdir):\n",
    "        for file in files:\n",
    "            fp.write('{} {} \\n'.format(os.path.join(subdir, file), file.split('_')[0]))"
   ]
  },
  {
   "cell_type": "code",
   "execution_count": 4,
   "metadata": {},
   "outputs": [],
   "source": [
    "file = \"/raid/varsha/data/train2019.json\"\n",
    "fp = open(file)\n",
    "data = json.load(fp)\n",
    "with open(\"/raid/varsha/iNaturalist19_train.txt\", \"a\") as fp:\n",
    "    for i in data[\"images\"]:\n",
    "        first = os.path.join(\"/raid/varsha/data/\", i[\"file_name\"])\n",
    "        second = i[\"file_name\"].split(\"/\")[2]\n",
    "        fp.write('{} {} \\n'.format(first, second))\n",
    "        # print(first, second)"
   ]
  },
  {
   "cell_type": "code",
   "execution_count": 5,
   "metadata": {},
   "outputs": [],
   "source": [
    "file = \"/raid/varsha/data/val2019.json\"\n",
    "fp = open(file)\n",
    "data = json.load(fp)\n",
    "with open(\"/raid/varsha/iNaturalist19_val.txt\", \"a\") as fp:\n",
    "    for i in data[\"images\"]:\n",
    "        first = os.path.join(\"/raid/varsha/data/\", i[\"file_name\"])\n",
    "        second = i[\"file_name\"].split(\"/\")[2]\n",
    "        fp.write('{} {} \\n'.format(first, second))\n",
    "        \n",
    "        # print(first, second)"
   ]
  }
 ],
 "metadata": {
  "kernelspec": {
   "display_name": "text_inv",
   "language": "python",
   "name": "python3"
  },
  "language_info": {
   "codemirror_mode": {
    "name": "ipython",
    "version": 3
   },
   "file_extension": ".py",
   "mimetype": "text/x-python",
   "name": "python",
   "nbconvert_exporter": "python",
   "pygments_lexer": "ipython3",
   "version": "3.11.4"
  },
  "orig_nbformat": 4
 },
 "nbformat": 4,
 "nbformat_minor": 2
}
