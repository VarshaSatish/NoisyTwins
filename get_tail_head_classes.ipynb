{
 "cells": [
  {
   "cell_type": "code",
   "execution_count": 1,
   "metadata": {},
   "outputs": [],
   "source": [
    "import os, operator\n",
    "num=[]\n",
    "with open(\"/raid/varsha/data/iNaturalist19_train.txt\") as fp:\n",
    "    for line in fp:\n",
    "        num.append(line.split(' ')[1])\n",
    "dict_counts=dict((x,num.count(x)) for x in set(num))"
   ]
  },
  {
   "cell_type": "code",
   "execution_count": 2,
   "metadata": {},
   "outputs": [],
   "source": [
    "sorted_d = sorted(dict_counts.items(), key=operator.itemgetter(1), reverse=True)\n",
    "sorted_a = sorted(dict_counts.items(), key=operator.itemgetter(1))\n",
    "head_classes=[]\n",
    "tail_classes=[]\n",
    "for i in range(30):\n",
    "    tail_classes.append(int(sorted_a[i][0]))\n",
    "    head_classes.append(int(sorted_d[i][0]))"
   ]
  }
 ],
 "metadata": {
  "kernelspec": {
   "display_name": "text_inv",
   "language": "python",
   "name": "python3"
  },
  "language_info": {
   "codemirror_mode": {
    "name": "ipython",
    "version": 3
   },
   "file_extension": ".py",
   "mimetype": "text/x-python",
   "name": "python",
   "nbconvert_exporter": "python",
   "pygments_lexer": "ipython3",
   "version": "3.11.4"
  },
  "orig_nbformat": 4
 },
 "nbformat": 4,
 "nbformat_minor": 2
}
