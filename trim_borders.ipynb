{
 "cells": [
  {
   "cell_type": "code",
   "execution_count": null,
   "metadata": {},
   "outputs": [],
   "source": [
    "import os\n",
    "from PIL import ImageFile, Image, ImageChops\n",
    "ImageFile.LOAD_TRUNCATED_IMAGES = True\n",
    "\n",
    "def trim(im):\n",
    "    bg = Image.new(im.mode, im.size, im.getpixel((0, 0)))\n",
    "    try:\n",
    "        diff = ImageChops.difference(im, bg)\n",
    "        diff = ImageChops.add(diff, diff, 2.0, 0)\n",
    "        bbox = diff.getbbox()\n",
    "        if bbox:\n",
    "            return im.crop(bbox)\n",
    "        else:\n",
    "            return trim(im.convert(\"RGB\"))\n",
    "    except:\n",
    "        return im\n",
    "    \n",
    "rootdir = \"/home/test/varsha/images/generated_samples/\"\n",
    "dstdir = '/home/test/varsha/images/generated_samples_trim/'\n",
    "os.makedirs(dstdir, exist_ok=True)\n",
    "# l = 0\n",
    "for subdir, dirs, files in os.walk(rootdir):\n",
    "    # print(subdir, dirs)\n",
    "    for file in files[:10]:\n",
    "        # print(file)\n",
    "        im = Image.open(\"{}/{}\".format(subdir, file))\n",
    "        \n",
    "        im_trim = trim(im)\n",
    "        # print(im_trim.size)\n",
    "        dst = subdir.replace('generated_samples', 'generated_samples_trim')\n",
    "        # print(dst)\n",
    "        os.makedirs(dst, exist_ok=True)\n",
    "        im_trim.save(\"{}/{}\".format(dst, file))\n",
    "        # l += 1\n",
    "    #     exit()\n",
    "    # exit()\n",
    "# print(l)"
   ]
  },
  {
   "cell_type": "code",
   "execution_count": 3,
   "metadata": {},
   "outputs": [],
   "source": [
    "\n",
    "def trim(im):\n",
    "    bg = Image.new(im.mode, im.size, im.getpixel((0, 0)))\n",
    "    try:\n",
    "        diff = ImageChops.difference(im, bg)\n",
    "        diff = ImageChops.add(diff, diff, 2.0, 1)\n",
    "        bbox = diff.getbbox()\n",
    "        if bbox:\n",
    "            return im.crop(bbox)\n",
    "        else:\n",
    "            return trim(im.convert(\"RGB\"))\n",
    "    except:\n",
    "        return im"
   ]
  },
  {
   "cell_type": "code",
   "execution_count": 6,
   "metadata": {},
   "outputs": [],
   "source": [
    "import os\n",
    "from PIL import ImageFile, Image, ImageChops\n",
    "ImageFile.LOAD_TRUNCATED_IMAGES = True\n",
    "im = Image.open('/home/test/varsha/images/generated_samples/Plants/753/in_bright_sunlight/753_in_bright_sunlight_12.png')\n",
    "im_trim = trim(im)\n",
    "# print(im_trim.size)\n",
    "subdir= '/home/test/varsha/images/generated_samples/Plants/753/in_bright_sunlight/'\n",
    "file='753_in_bright_sunlight_12.png'\n",
    "dst = subdir.replace('generated_samples', 'generated_samples_trim')\n",
    "# print(dst)\n",
    "os.makedirs(dst, exist_ok=True)\n",
    "im_trim.save(\"{}/{}\".format(dst, file))"
   ]
  }
 ],
 "metadata": {
  "kernelspec": {
   "display_name": "text_inv",
   "language": "python",
   "name": "python3"
  },
  "language_info": {
   "codemirror_mode": {
    "name": "ipython",
    "version": 3
   },
   "file_extension": ".py",
   "mimetype": "text/x-python",
   "name": "python",
   "nbconvert_exporter": "python",
   "pygments_lexer": "ipython3",
   "version": "3.11.4"
  },
  "orig_nbformat": 4
 },
 "nbformat": 4,
 "nbformat_minor": 2
}
